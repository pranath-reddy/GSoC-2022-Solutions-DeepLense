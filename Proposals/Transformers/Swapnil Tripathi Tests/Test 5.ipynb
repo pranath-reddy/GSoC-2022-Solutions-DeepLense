{
 "cells": [
  {
   "cell_type": "code",
   "execution_count": 1,
   "metadata": {
    "_cell_guid": "b1076dfc-b9ad-4769-8c92-a6c4dae69d19",
    "_uuid": "8f2839f25d086af736a60e9eeb907d3b93b6e0e5",
    "execution": {
     "iopub.execute_input": "2022-04-04T02:13:01.480457Z",
     "iopub.status.busy": "2022-04-04T02:13:01.479862Z",
     "iopub.status.idle": "2022-04-04T02:13:05.829379Z",
     "shell.execute_reply": "2022-04-04T02:13:05.827503Z",
     "shell.execute_reply.started": "2022-04-04T02:13:01.480340Z"
    }
   },
   "outputs": [
    {
     "name": "stderr",
     "output_type": "stream",
     "text": [
      "Global seed set to 42\n"
     ]
    },
    {
     "name": "stdout",
     "output_type": "stream",
     "text": [
      "Device: cuda:0\n"
     ]
    }
   ],
   "source": [
    "# Standard libraries\n",
    "import os\n",
    "import shutil\n",
    "import numpy as np\n",
    "import random\n",
    "import math\n",
    "import json\n",
    "from functools import partial\n",
    "from PIL import Image\n",
    "\n",
    "# Imports for plotting\n",
    "import matplotlib.pyplot as plt\n",
    "%matplotlib inline\n",
    "\n",
    "# PyTorch\n",
    "import torch\n",
    "import torch.nn as nn\n",
    "import torch.nn.functional as F\n",
    "import torch.utils.data as data\n",
    "import torch.optim as optim\n",
    "\n",
    "# Torchvision\n",
    "import torchvision\n",
    "from torchvision import transforms\n",
    "from torchvision.utils import make_grid\n",
    "from torchvision.datasets import DatasetFolder, ImageFolder\n",
    "from torch.utils.data import DataLoader\n",
    "\n",
    "# Imports for ROC AUC\n",
    "from sklearn.preprocessing import LabelBinarizer\n",
    "from sklearn.metrics import roc_curve, roc_auc_score, auc\n",
    "from itertools import cycle\n",
    "\n",
    "# Imports for PyTorch Lightning\n",
    "import pytorch_lightning as pl    \n",
    "from pytorch_lightning.callbacks import LearningRateMonitor, ModelCheckpoint\n",
    "pl.seed_everything(42)\n",
    "\n",
    "device = torch.device(\"cuda:0\") if torch.cuda.is_available() else torch.device(\"cpu\")\n",
    "print(\"Device:\", device)"
   ]
  },
  {
   "cell_type": "code",
   "execution_count": 2,
   "metadata": {
    "execution": {
     "iopub.execute_input": "2022-04-04T02:13:05.831762Z",
     "iopub.status.busy": "2022-04-04T02:13:05.831506Z",
     "iopub.status.idle": "2022-04-04T02:13:05.839563Z",
     "shell.execute_reply": "2022-04-04T02:13:05.838842Z",
     "shell.execute_reply.started": "2022-04-04T02:13:05.831727Z"
    }
   },
   "outputs": [],
   "source": [
    "# Kaggle kernel\n",
    "LENSES_DATASET_PATH = \"../input/lensestargz/lenses\" # Should point to the root of the datasets folder\n",
    "BATCH_SIZE = 16\n",
    "TEST_SPLIT=0.1\n",
    "VAL_SPLIT=0.01\n",
    "INPUT_HEIGHT = 150\n",
    "INPUT_WIDTH = 150\n",
    "TRAIN='train'\n",
    "TEST='test'\n",
    "VAL='val'"
   ]
  },
  {
   "cell_type": "code",
   "execution_count": 3,
   "metadata": {
    "execution": {
     "iopub.execute_input": "2022-04-04T02:13:11.847582Z",
     "iopub.status.busy": "2022-04-04T02:13:11.847031Z",
     "iopub.status.idle": "2022-04-04T02:13:12.167458Z",
     "shell.execute_reply": "2022-04-04T02:13:12.166768Z",
     "shell.execute_reply.started": "2022-04-04T02:13:11.847537Z"
    }
   },
   "outputs": [],
   "source": [
    "lenses_files = []\n",
    "for folder in {'sub', 'no_sub'}:\n",
    "    for file in os.listdir(os.path.join(LENSES_DATASET_PATH, folder)):\n",
    "        if file.endswith(\".jpg\"):\n",
    "            lenses_files.append(os.path.join(LENSES_DATASET_PATH, folder, file))"
   ]
  },
  {
   "cell_type": "code",
   "execution_count": 4,
   "metadata": {
    "execution": {
     "iopub.execute_input": "2022-04-04T02:13:12.305969Z",
     "iopub.status.busy": "2022-04-04T02:13:12.305733Z",
     "iopub.status.idle": "2022-04-04T02:13:12.312874Z",
     "shell.execute_reply": "2022-04-04T02:13:12.311862Z",
     "shell.execute_reply.started": "2022-04-04T02:13:12.305941Z"
    }
   },
   "outputs": [],
   "source": [
    "def copy_images(imagePaths, folder):\n",
    "    if not os.path.exists(folder):\n",
    "        os.makedirs(folder)\n",
    "    for path in imagePaths:\n",
    "        imageName = path.split(os.path.sep)[-1]\n",
    "        label = path.split(os.path.sep)[-2]\n",
    "        labelFolder = os.path.join(folder, label)\n",
    "        if not os.path.exists(labelFolder):\n",
    "            os.makedirs(labelFolder)\n",
    "        destination = os.path.join(labelFolder, imageName)\n",
    "        shutil.copy(path, destination)"
   ]
  },
  {
   "cell_type": "code",
   "execution_count": 5,
   "metadata": {
    "execution": {
     "iopub.execute_input": "2022-04-04T02:13:12.804984Z",
     "iopub.status.busy": "2022-04-04T02:13:12.804306Z",
     "iopub.status.idle": "2022-04-04T02:13:12.811316Z",
     "shell.execute_reply": "2022-04-04T02:13:12.810292Z",
     "shell.execute_reply.started": "2022-04-04T02:13:12.804950Z"
    }
   },
   "outputs": [],
   "source": [
    "np.random.shuffle(lenses_files)\n",
    "valPathsLen = int(len(lenses_files) * VAL_SPLIT)\n",
    "testPathsLen = int(len(lenses_files) * TEST_SPLIT)\n",
    "trainPathsLen = len(lenses_files) - valPathsLen - testPathsLen\n",
    "print(f\"Train : {trainPathsLen}, Test: {testPathsLen}, Val:{valPathsLen}\")"
   ]
  },
  {
   "cell_type": "code",
   "execution_count": 6,
   "metadata": {
    "execution": {
     "iopub.execute_input": "2022-04-04T02:13:13.229611Z",
     "iopub.status.busy": "2022-04-04T02:13:13.229332Z",
     "iopub.status.idle": "2022-04-04T02:13:13.236163Z",
     "shell.execute_reply": "2022-04-04T02:13:13.235373Z",
     "shell.execute_reply.started": "2022-04-04T02:13:13.229578Z"
    }
   },
   "outputs": [],
   "source": [
    "testInd = trainPathsLen + testPathsLen"
   ]
  },
  {
   "cell_type": "code",
   "execution_count": 7,
   "metadata": {
    "execution": {
     "iopub.execute_input": "2022-04-04T02:13:13.484246Z",
     "iopub.status.busy": "2022-04-04T02:13:13.483953Z",
     "iopub.status.idle": "2022-04-04T02:13:13.490098Z",
     "shell.execute_reply": "2022-04-04T02:13:13.489231Z",
     "shell.execute_reply.started": "2022-04-04T02:13:13.484217Z"
    }
   },
   "outputs": [],
   "source": [
    "trainPaths = lenses_files[:trainPathsLen]\n",
    "testPaths = lenses_files[trainPathsLen:testInd]\n",
    "valPaths = lenses_files[testInd:]"
   ]
  },
  {
   "cell_type": "code",
   "execution_count": 8,
   "metadata": {
    "execution": {
     "iopub.execute_input": "2022-04-04T02:13:13.767555Z",
     "iopub.status.busy": "2022-04-04T02:13:13.767210Z",
     "iopub.status.idle": "2022-04-04T02:13:43.895859Z",
     "shell.execute_reply": "2022-04-04T02:13:43.895099Z",
     "shell.execute_reply.started": "2022-04-04T02:13:13.767524Z"
    }
   },
   "outputs": [],
   "source": [
    "copy_images(trainPaths, TRAIN)\n",
    "copy_images(testPaths, TEST)\n",
    "copy_images(valPaths, VAL)"
   ]
  },
  {
   "cell_type": "code",
   "execution_count": 9,
   "metadata": {
    "execution": {
     "iopub.execute_input": "2022-04-04T02:13:43.899230Z",
     "iopub.status.busy": "2022-04-04T02:13:43.899028Z",
     "iopub.status.idle": "2022-04-04T02:13:43.903992Z",
     "shell.execute_reply": "2022-04-04T02:13:43.903185Z",
     "shell.execute_reply.started": "2022-04-04T02:13:43.899206Z"
    }
   },
   "outputs": [],
   "source": [
    "trainTransforms = transforms.Compose([\n",
    "    transforms.Resize(size=(224, 224)),\n",
    "    transforms.ToTensor()\n",
    "])\n",
    "testTransforms = transforms.Compose([\n",
    "    transforms.Resize(size=(224, 224)),\n",
    "    transforms.ToTensor()\n",
    "])"
   ]
  },
  {
   "cell_type": "code",
   "execution_count": 10,
   "metadata": {
    "execution": {
     "iopub.execute_input": "2022-04-04T02:13:43.905963Z",
     "iopub.status.busy": "2022-04-04T02:13:43.905439Z",
     "iopub.status.idle": "2022-04-04T02:13:43.970107Z",
     "shell.execute_reply": "2022-04-04T02:13:43.969424Z",
     "shell.execute_reply.started": "2022-04-04T02:13:43.905928Z"
    }
   },
   "outputs": [],
   "source": [
    "trainDataset = ImageFolder(root=TRAIN, transform=trainTransforms)\n",
    "testDataset = ImageFolder(root=TEST, transform=testTransforms)\n",
    "valDataset = ImageFolder(root=VAL, transform=testTransforms)\n",
    "\n",
    "print(f\"[INFO] Training dataset contains {len(trainDataset)} samples.\")\n",
    "print(f\"[INFO] Test dataset contains {len(testDataset)} samples.\")\n",
    "print(f\"[INFO] Validation dataset contains {len(valDataset)} samples.\")"
   ]
  },
  {
   "cell_type": "code",
   "execution_count": 11,
   "metadata": {
    "execution": {
     "iopub.execute_input": "2022-04-04T02:13:43.972570Z",
     "iopub.status.busy": "2022-04-04T02:13:43.971873Z",
     "iopub.status.idle": "2022-04-04T02:13:43.978117Z",
     "shell.execute_reply": "2022-04-04T02:13:43.977478Z",
     "shell.execute_reply.started": "2022-04-04T02:13:43.972533Z"
    }
   },
   "outputs": [],
   "source": [
    "trainDataLoader = DataLoader(trainDataset, \n",
    "        batch_size=BATCH_SIZE, shuffle=True, num_workers=2)\n",
    "testDataLoader = DataLoader(testDataset, shuffle=False, drop_last=False, batch_size=BATCH_SIZE, num_workers=2)\n",
    "valDataLoader = DataLoader(valDataset, shuffle=False, drop_last=False, batch_size=BATCH_SIZE, num_workers=2)"
   ]
  },
  {
   "cell_type": "code",
   "execution_count": 12,
   "metadata": {
    "execution": {
     "iopub.execute_input": "2022-04-04T02:13:43.979607Z",
     "iopub.status.busy": "2022-04-04T02:13:43.979252Z",
     "iopub.status.idle": "2022-04-04T02:13:43.988381Z",
     "shell.execute_reply": "2022-04-04T02:13:43.987557Z",
     "shell.execute_reply.started": "2022-04-04T02:13:43.979571Z"
    }
   },
   "outputs": [],
   "source": [
    "def visualize_batch(batch, classes, dataset_type):\n",
    "    fig = plt.figure(\"{} batch\".format(dataset_type), figsize=(20, 5))\n",
    "    for i in range(0, BATCH_SIZE):\n",
    "        ax = plt.subplot(2, 8, i+1)\n",
    "        image = batch[0][i].cpu().numpy()\n",
    "        image = image.transpose((1, 2, 0))\n",
    "        image = (image * 255.0).astype(\"uint8\")\n",
    "        idx = batch[1][i]\n",
    "        label = classes[idx]\n",
    "        plt.imshow(image)\n",
    "        plt.title(label)\n",
    "        plt.axis(\"off\")\n",
    "    plt.tight_layout()\n",
    "    plt.show()"
   ]
  },
  {
   "cell_type": "code",
   "execution_count": 13,
   "metadata": {
    "execution": {
     "iopub.execute_input": "2022-04-04T02:13:43.990164Z",
     "iopub.status.busy": "2022-04-04T02:13:43.989832Z",
     "iopub.status.idle": "2022-04-04T02:13:45.166041Z",
     "shell.execute_reply": "2022-04-04T02:13:45.165332Z",
     "shell.execute_reply.started": "2022-04-04T02:13:43.990130Z"
    }
   },
   "outputs": [],
   "source": [
    "trainBatch = next(iter(trainDataLoader))\n",
    "print(trainBatch[0].shape)\n",
    "visualize_batch(trainBatch, trainDataset.classes, \"train\")"
   ]
  },
  {
   "cell_type": "markdown",
   "metadata": {},
   "source": [
    "### Breaking image into multiple patches and the flattening them."
   ]
  },
  {
   "cell_type": "code",
   "execution_count": 14,
   "metadata": {
    "execution": {
     "iopub.execute_input": "2022-04-04T02:13:45.167309Z",
     "iopub.status.busy": "2022-04-04T02:13:45.167074Z",
     "iopub.status.idle": "2022-04-04T02:13:45.174437Z",
     "shell.execute_reply": "2022-04-04T02:13:45.173375Z",
     "shell.execute_reply.started": "2022-04-04T02:13:45.167275Z"
    }
   },
   "outputs": [],
   "source": [
    "def img_to_patch(x, patch_size, flatten_channels=True):\n",
    "    B, C, H, W = x.shape\n",
    "    #x = x.reshape(B, C, H//patch_size, patch_size, W//patch_size, patch_size)\n",
    "    x = x.reshape(B, C, torch.div(H, patch_size, rounding_mode='trunc'), patch_size, torch.div(W, patch_size, rounding_mode='trunc'), patch_size)\n",
    "    \n",
    "    x = x.permute(0, 2, 4, 1, 3, 5)\n",
    "    x = x.flatten(1,2)\n",
    "    if flatten_channels:\n",
    "        x = x.flatten(2,4)\n",
    "    return x"
   ]
  },
  {
   "cell_type": "markdown",
   "metadata": {},
   "source": [
    "# Vision Transformer  \n",
    "![Image ViT](https://production-media.paperswithcode.com/methods/Screen_Shot_2021-01-26_at_9.43.31_PM_uI4jjMq.png)"
   ]
  },
  {
   "cell_type": "markdown",
   "metadata": {},
   "source": [
    "## Patch Embeddings"
   ]
  },
  {
   "cell_type": "code",
   "execution_count": 15,
   "metadata": {
    "execution": {
     "iopub.execute_input": "2022-04-04T02:13:45.176283Z",
     "iopub.status.busy": "2022-04-04T02:13:45.175761Z",
     "iopub.status.idle": "2022-04-04T02:13:46.053787Z",
     "shell.execute_reply": "2022-04-04T02:13:46.052436Z",
     "shell.execute_reply.started": "2022-04-04T02:13:45.176245Z"
    }
   },
   "outputs": [],
   "source": [
    "img_patches = img_to_patch(trainBatch[0], patch_size=16, flatten_channels=False)\n",
    "\n",
    "fig, ax = plt.subplots(trainBatch[0].shape[0], 1, figsize=(40,10))\n",
    "\n",
    "print('Display patch embedding result: ')\n",
    "# 224x224 images, split as 16x16 patches so 196 patches in total, displaying 98 patches flattened as a single row\n",
    "\n",
    "for i in range(trainBatch[0].shape[0]):\n",
    "    img_grid = make_grid(img_patches[i], nrow=98, normalize=True, pad_value=0.8)\n",
    "    img_grid = img_grid.permute(1, 2, 0)\n",
    "    ax[i].imshow(img_grid)\n",
    "    ax[i].axis('off')\n",
    "plt.show()\n",
    "plt.close()"
   ]
  },
  {
   "cell_type": "markdown",
   "metadata": {},
   "source": [
    "## The Vision Transformer model"
   ]
  },
  {
   "cell_type": "code",
   "execution_count": 16,
   "metadata": {
    "execution": {
     "iopub.execute_input": "2022-04-04T02:13:46.057640Z",
     "iopub.status.busy": "2022-04-04T02:13:46.055091Z",
     "iopub.status.idle": "2022-04-04T02:13:46.066717Z",
     "shell.execute_reply": "2022-04-04T02:13:46.065959Z",
     "shell.execute_reply.started": "2022-04-04T02:13:46.057601Z"
    }
   },
   "outputs": [],
   "source": [
    "class AttentionBlock(nn.Module):\n",
    "    \"\"\"\n",
    "        embed_dim - dims of the input and attn of feature vectors\n",
    "        hidden_dim - dims of hidden layer in FFN i.e 2 x embed_dim\n",
    "        num_heads - number of heads in MHA block\n",
    "        dropout - amount of dropout to apply in FFN\n",
    "    \"\"\"\n",
    "    def __init__(self, embed_dim, hidden_dim, num_heads, dropout=0.0):\n",
    "        super().__init__()\n",
    "\n",
    "        self.layer_norm_1 = nn.LayerNorm(embed_dim)\n",
    "        self.attn = nn.MultiheadAttention(embed_dim, num_heads)\n",
    "        self.layer_norm_2 = nn.LayerNorm(embed_dim)\n",
    "        self.linear = nn.Sequential(\n",
    "            nn.Linear(embed_dim, hidden_dim),\n",
    "            nn.GELU(),\n",
    "            nn.Dropout(dropout),\n",
    "            nn.Linear(hidden_dim, embed_dim),\n",
    "            nn.Dropout(dropout)\n",
    "        )\n",
    "\n",
    "\n",
    "    def forward(self, x):\n",
    "        inp_x = self.layer_norm_1(x)\n",
    "        x = x + self.attn(inp_x, inp_x, inp_x)[0]\n",
    "        x = x + self.linear(self.layer_norm_2(x))\n",
    "        return x"
   ]
  },
  {
   "cell_type": "code",
   "execution_count": 17,
   "metadata": {
    "execution": {
     "iopub.execute_input": "2022-04-04T02:13:46.070077Z",
     "iopub.status.busy": "2022-04-04T02:13:46.069793Z",
     "iopub.status.idle": "2022-04-04T02:13:46.081450Z",
     "shell.execute_reply": "2022-04-04T02:13:46.080734Z",
     "shell.execute_reply.started": "2022-04-04T02:13:46.070049Z"
    }
   },
   "outputs": [],
   "source": [
    "class VisionTransformer(nn.Module):\n",
    "    \"\"\"\n",
    "        embed_dim - dims of the input feature vectors\n",
    "        hidden_dim - dims of the hidden layer in the FFN within transformer\n",
    "        num_channels - num of channels of the input i.e. 3 in our case of RGB images\n",
    "        num_heads - num of heads to use in the MHA block\n",
    "        num_layers - num of layers in transformer\n",
    "        num_classes - num of classes to predict\n",
    "        patch_size - num of pixels that the patches have per dim\n",
    "        num_patches - max number of patches of an image\n",
    "        dropout - amount of dropout to apply in the FFN and on the input encoding\n",
    "    \"\"\"\n",
    "    def __init__(self, embed_dim, hidden_dim, num_channels, num_heads, num_layers, num_classes, patch_size, num_patches, dropout=0.0):\n",
    "        super().__init__()\n",
    "\n",
    "        self.patch_size = patch_size\n",
    "        \n",
    "        self.input_layer = nn.Linear(num_channels*(patch_size**2), embed_dim)\n",
    "        self.transformer = nn.Sequential(*[AttentionBlock(embed_dim, hidden_dim, num_heads, dropout=dropout) for _ in range(num_layers)])\n",
    "        self.mlp_head = nn.Sequential(\n",
    "            nn.LayerNorm(embed_dim),\n",
    "            nn.Linear(embed_dim, num_classes)\n",
    "        )\n",
    "        self.dropout = nn.Dropout(dropout)\n",
    "\n",
    "        self.cls_token = nn.Parameter(torch.randn(1,1,embed_dim))\n",
    "        self.pos_embedding = nn.Parameter(torch.randn(1,1+num_patches,embed_dim))\n",
    "\n",
    "\n",
    "    def forward(self, x):\n",
    "        x = img_to_patch(x, self.patch_size)\n",
    "        B, T, _ = x.shape\n",
    "        x = self.input_layer(x)\n",
    "\n",
    "        cls_token = self.cls_token.repeat(B, 1, 1)\n",
    "        x = torch.cat([cls_token, x], dim=1)\n",
    "        x = x + self.pos_embedding[:,:T+1]\n",
    "\n",
    "        x = self.dropout(x)\n",
    "        x = x.transpose(0, 1)\n",
    "        x = self.transformer(x)\n",
    "\n",
    "        cls = x[0]\n",
    "        out = self.mlp_head(cls)\n",
    "        return out"
   ]
  },
  {
   "cell_type": "code",
   "execution_count": 18,
   "metadata": {
    "execution": {
     "iopub.execute_input": "2022-04-04T02:13:46.083254Z",
     "iopub.status.busy": "2022-04-04T02:13:46.082820Z",
     "iopub.status.idle": "2022-04-04T02:13:46.096116Z",
     "shell.execute_reply": "2022-04-04T02:13:46.095487Z",
     "shell.execute_reply.started": "2022-04-04T02:13:46.083217Z"
    }
   },
   "outputs": [],
   "source": [
    "# We will be using PyTorch's Lightning module to organize our model code.\n",
    "\n",
    "class ViT(pl.LightningModule):\n",
    "    def __init__(self, model_kwargs, lr):\n",
    "        super().__init__()\n",
    "        self.save_hyperparameters()\n",
    "        self.model = VisionTransformer(**model_kwargs)\n",
    "        self.example_input_array = next(iter(trainDataLoader))[0]\n",
    "        self.predictions = [] # Actual predictions for ROC AUC\n",
    "\n",
    "    def forward(self, x):\n",
    "        return self.model(x)\n",
    "\n",
    "    def configure_optimizers(self):\n",
    "        optimizer = optim.AdamW(self.parameters(), lr=self.hparams.lr)\n",
    "        lr_scheduler = optim.lr_scheduler.MultiStepLR(optimizer, milestones=[100,150], gamma=0.1)\n",
    "        return [optimizer], [lr_scheduler]\n",
    "\n",
    "    def _calculate_loss(self, batch, mode=\"train\"):\n",
    "        imgs, labels = batch\n",
    "        preds = self.model(imgs)\n",
    "        loss = F.cross_entropy(preds, labels)\n",
    "        acc = (preds.argmax(dim=-1) == labels).float().mean()\n",
    "        \n",
    "        if mode == 'test':\n",
    "            self.predictions.append(preds.argmax(dim=-1))\n",
    "        \n",
    "        self.log(f'{mode}_loss', loss, )\n",
    "        self.log(f'{mode}_acc', acc)\n",
    "        return loss\n",
    "\n",
    "    def training_step(self, batch, batch_idx):\n",
    "        loss = self._calculate_loss(batch, mode=\"train\")\n",
    "        return loss\n",
    "    \n",
    "    def validation_step(self, batch, batch_idx):\n",
    "        self._calculate_loss(batch, mode=\"val\")\n",
    "\n",
    "    def test_step(self, batch, batch_idx):\n",
    "        self._calculate_loss(batch, mode=\"test\")"
   ]
  },
  {
   "cell_type": "code",
   "execution_count": 19,
   "metadata": {
    "execution": {
     "iopub.execute_input": "2022-04-04T02:13:46.097680Z",
     "iopub.status.busy": "2022-04-04T02:13:46.097395Z",
     "iopub.status.idle": "2022-04-04T02:13:46.106325Z",
     "shell.execute_reply": "2022-04-04T02:13:46.105615Z",
     "shell.execute_reply.started": "2022-04-04T02:13:46.097645Z"
    }
   },
   "outputs": [],
   "source": [
    "CHECKPOINT_PATH = \"./saved_models/\""
   ]
  },
  {
   "cell_type": "code",
   "execution_count": 20,
   "metadata": {
    "execution": {
     "iopub.execute_input": "2022-04-04T02:13:46.108005Z",
     "iopub.status.busy": "2022-04-04T02:13:46.107750Z",
     "iopub.status.idle": "2022-04-04T02:13:46.116393Z",
     "shell.execute_reply": "2022-04-04T02:13:46.115418Z",
     "shell.execute_reply.started": "2022-04-04T02:13:46.107973Z"
    }
   },
   "outputs": [],
   "source": [
    "def train_model(**kwargs):\n",
    "    trainer = pl.Trainer(default_root_dir=os.path.join(CHECKPOINT_PATH, \"ViT\"),\n",
    "                         gpus=1 if str(device)==\"cuda:0\" else 0,\n",
    "                         max_epochs=180,\n",
    "                         callbacks=[ModelCheckpoint(save_weights_only=True, mode=\"max\", monitor=\"val_acc\"),\n",
    "                                    LearningRateMonitor(\"epoch\")],\n",
    "                         enable_progress_bar=False,\n",
    "                         log_every_n_steps=4)\n",
    "    \n",
    "    #trainer.logger._log_graph = True         # If True, we plot the computation graph in tensorboard\n",
    "    #trainer.logger._default_hp_metric = None # Optional logging argument that we don't need\n",
    "\n",
    "    pl.seed_everything(42, workers=True) # To be reproducable\n",
    "    model = ViT(**kwargs)\n",
    "    trainer.fit(model=model, train_dataloaders=trainDataLoader, val_dataloaders=valDataLoader)\n",
    "    \n",
    "    # Using PyTorch Lightning we can load a revised model and use it as the best model on test set for best results, for a straighforward solution, we will use a new model.\n",
    "    val_result = trainer.validate(model, dataloaders=valDataLoader, verbose=False)\n",
    "    test_result = trainer.test(model, dataloaders=testDataLoader, verbose=False)\n",
    "    \n",
    "    result = {\"test\": test_result[0][\"test_acc\"], \"val\": val_result[0][\"val_acc\"]}\n",
    "    \n",
    "    return model, result"
   ]
  },
  {
   "cell_type": "code",
   "execution_count": 21,
   "metadata": {
    "execution": {
     "iopub.execute_input": "2022-04-04T02:13:46.118088Z",
     "iopub.status.busy": "2022-04-04T02:13:46.117828Z",
     "iopub.status.idle": "2022-04-04T02:13:46.127620Z",
     "shell.execute_reply": "2022-04-04T02:13:46.126572Z",
     "shell.execute_reply.started": "2022-04-04T02:13:46.118054Z"
    }
   },
   "outputs": [],
   "source": [
    "EMBED_DIM=256\n",
    "HIDDEN_DIM=512\n",
    "RESIZE_IMG=224\n",
    "NUM_HEADS=8\n",
    "NUM_LAYERS=6\n",
    "PATCH_SIZE=16\n",
    "NUM_CHANNELS=3\n",
    "NUM_PATCHES=int((RESIZE_IMG*RESIZE_IMG) / (PATCH_SIZE*PATCH_SIZE))\n",
    "NUM_CLASSES=2\n",
    "DROPOUT=0.2"
   ]
  },
  {
   "cell_type": "markdown",
   "metadata": {},
   "source": [
    "## Training the model"
   ]
  },
  {
   "cell_type": "code",
   "execution_count": 22,
   "metadata": {
    "execution": {
     "iopub.execute_input": "2022-04-04T02:13:46.129288Z",
     "iopub.status.busy": "2022-04-04T02:13:46.128937Z",
     "iopub.status.idle": "2022-04-04T03:27:21.506047Z",
     "shell.execute_reply": "2022-04-04T03:27:21.505257Z",
     "shell.execute_reply.started": "2022-04-04T02:13:46.129253Z"
    }
   },
   "outputs": [],
   "source": [
    "model, results = train_model(model_kwargs={\n",
    "                                'embed_dim': EMBED_DIM,\n",
    "                                'hidden_dim': HIDDEN_DIM,\n",
    "                                'num_heads': NUM_HEADS,\n",
    "                                'num_layers': NUM_LAYERS,\n",
    "                                'patch_size': PATCH_SIZE,\n",
    "                                'num_channels': NUM_CHANNELS,\n",
    "                                'num_patches': NUM_PATCHES,\n",
    "                                'num_classes': NUM_CLASSES,\n",
    "                                'dropout': DROPOUT\n",
    "                            }, lr=3e-4)\n",
    "print(\"ViT results\", results)"
   ]
  },
  {
   "cell_type": "markdown",
   "metadata": {},
   "source": [
    "## ROC AUC Score"
   ]
  },
  {
   "cell_type": "code",
   "execution_count": 23,
   "metadata": {
    "execution": {
     "iopub.execute_input": "2022-04-04T03:27:21.508273Z",
     "iopub.status.busy": "2022-04-04T03:27:21.508019Z",
     "iopub.status.idle": "2022-04-04T03:27:21.514869Z",
     "shell.execute_reply": "2022-04-04T03:27:21.514208Z",
     "shell.execute_reply.started": "2022-04-04T03:27:21.508234Z"
    }
   },
   "outputs": [],
   "source": [
    "class LB(LabelBinarizer):\n",
    "    def transform(self, y):\n",
    "        Y = super().transform(y)\n",
    "        if self.y_type_ == 'binary':\n",
    "            return np.hstack((Y, 1-Y))\n",
    "        else:\n",
    "            return Y\n",
    "\n",
    "    def inverse_transform(self, Y, threshold=None):\n",
    "        if self.y_type_ == 'binary':\n",
    "            return super().inverse_transform(Y[:, 0], threshold)\n",
    "        else:\n",
    "            return super().inverse_transform(Y, threshold)"
   ]
  },
  {
   "cell_type": "code",
   "execution_count": 24,
   "metadata": {
    "execution": {
     "iopub.execute_input": "2022-04-04T03:27:21.516751Z",
     "iopub.status.busy": "2022-04-04T03:27:21.516280Z",
     "iopub.status.idle": "2022-04-04T03:27:23.388304Z",
     "shell.execute_reply": "2022-04-04T03:27:23.387455Z",
     "shell.execute_reply.started": "2022-04-04T03:27:21.516716Z"
    }
   },
   "outputs": [],
   "source": [
    "y_score = torch.cat(model.predictions).cpu().detach().numpy()\n",
    "\n",
    "y_test = []\n",
    "for _, labels in testDataLoader:\n",
    "    y_test.append(labels.cpu().detach().numpy())\n",
    "\n",
    "y_test = np.concatenate(y_test)"
   ]
  },
  {
   "cell_type": "code",
   "execution_count": 25,
   "metadata": {
    "execution": {
     "iopub.execute_input": "2022-04-04T03:27:23.391792Z",
     "iopub.status.busy": "2022-04-04T03:27:23.391573Z",
     "iopub.status.idle": "2022-04-04T03:27:23.400147Z",
     "shell.execute_reply": "2022-04-04T03:27:23.399464Z",
     "shell.execute_reply.started": "2022-04-04T03:27:23.391765Z"
    }
   },
   "outputs": [],
   "source": [
    "lb = LB()\n",
    "y_test = lb.fit_transform(y_test)\n",
    "y_score = lb.fit_transform(y_score)"
   ]
  },
  {
   "cell_type": "code",
   "execution_count": 27,
   "metadata": {
    "execution": {
     "iopub.execute_input": "2022-04-04T03:27:38.370815Z",
     "iopub.status.busy": "2022-04-04T03:27:38.370234Z",
     "iopub.status.idle": "2022-04-04T03:27:38.648073Z",
     "shell.execute_reply": "2022-04-04T03:27:38.647237Z",
     "shell.execute_reply.started": "2022-04-04T03:27:38.370774Z"
    }
   },
   "outputs": [],
   "source": [
    "n_classes = y_test.shape[1]\n",
    "fpr = dict()\n",
    "tpr = dict()\n",
    "roc_auc = dict()\n",
    "\n",
    "for i in range(n_classes):\n",
    "    fpr[i], tpr[i], _ = roc_curve(y_test[:, i], y_score[:, i])\n",
    "    roc_auc[i] = auc(fpr[i], tpr[i])\n",
    "colors = ['orange', 'green']\n",
    "\n",
    "for i, color in zip(range(n_classes), colors):\n",
    "    plt.plot(fpr[i], tpr[i], color=color, lw=2, label='ROC curve of class {0} (area = {1:0.5f})' ''.format(i, roc_auc[i]))\n",
    "             \n",
    "plt.plot([0, 1], [0, 1], 'k--', lw=2)\n",
    "plt.xlim([0.0, 1.0])\n",
    "plt.ylim([0.0, 1.05])\n",
    "plt.xlabel('False Positive Rate')\n",
    "plt.ylabel('True Positive Rate')\n",
    "plt.title('Receiver Operating Characteristic')\n",
    "plt.legend(loc=\"lower right\")\n",
    "plt.show()"
   ]
  },
  {
   "cell_type": "markdown",
   "metadata": {},
   "source": [
    "### Save Model"
   ]
  },
  {
   "cell_type": "code",
   "execution_count": 28,
   "metadata": {
    "execution": {
     "iopub.execute_input": "2022-04-04T03:29:51.804717Z",
     "iopub.status.busy": "2022-04-04T03:29:51.804450Z",
     "iopub.status.idle": "2022-04-04T03:29:51.831021Z",
     "shell.execute_reply": "2022-04-04T03:29:51.830376Z",
     "shell.execute_reply.started": "2022-04-04T03:29:51.804689Z"
    }
   },
   "outputs": [],
   "source": [
    "torch.save(model.state_dict(), 'st5_model.pth')"
   ]
  }
 ],
 "metadata": {
  "kernelspec": {
   "display_name": "PyTorch",
   "language": "python",
   "name": "torch"
  },
  "language_info": {
   "codemirror_mode": {
    "name": "ipython",
    "version": 3
   },
   "file_extension": ".py",
   "mimetype": "text/x-python",
   "name": "python",
   "nbconvert_exporter": "python",
   "pygments_lexer": "ipython3",
   "version": "3.9.0"
  }
 },
 "nbformat": 4,
 "nbformat_minor": 4
}
